{
 "cells": [
  {
   "cell_type": "markdown",
   "metadata": {},
   "source": [
    "# **What is pandas?**\n",
    "![pandas-image](https://preview.redd.it/c6h7rok9c2v31.jpg?auto=webp&s=55820f5f994a744ff9d774fa2c6b3b56539a302f)\n",
    "\n",
    "pandas is a widely used open-source Python library that provides high-performance data manipulation and analysis tools. It is built on top of the NumPy library, which provides support for multi-dimensional arrays and mathematical functions in Python.\n",
    "\n",
    "Pandas provides a wide range of functionalities for data manipulation, including:\n",
    "\n",
    "- Reading and writing data from various file formats like CSV, Excel, SQL databases, etc.\n",
    "- Data selection, slicing, and filtering.\n",
    "- Handling missing data.\n",
    "- Grouping and aggregating data.\n",
    "- Merging and joining datasets.\n",
    "- Reshaping and pivoting data.\n",
    "- Time series analysis.\n",
    "- Data visualization integration with libraries like Matplotlib and Seaborn."
   ]
  },
  {
   "cell_type": "markdown",
   "metadata": {},
   "source": [
    "# **Why should I use pandas?**"
   ]
  },
  {
   "cell_type": "markdown",
   "metadata": {},
   "source": [
    "- Mastering pandas enables comprehension of foundational concepts in data manipulation and imparts Python coding skills.\n",
    "- It's simple and straightforward, allowing for immediate application to diverse datasets.\n",
    "- Widely embraced within the data science and machine learning circles, pandas stands as a staple tool."
   ]
  },
  {
   "cell_type": "markdown",
   "metadata": {},
   "source": [
    "# **How do I install pandas?**"
   ]
  },
  {
   "cell_type": "markdown",
   "metadata": {},
   "source": [
    "1. Go on your terminal and run `pip install pandas`. \n",
    "2. Go to a `.ipynb` or `.py` project and call pandas by importing it: `import pandas as pd`"
   ]
  },
  {
   "cell_type": "markdown",
   "metadata": {},
   "source": [
    "# **Importing pandas**"
   ]
  },
  {
   "cell_type": "code",
   "execution_count": 1,
   "metadata": {},
   "outputs": [],
   "source": [
    "import pandas as pd"
   ]
  },
  {
   "cell_type": "markdown",
   "metadata": {},
   "source": [
    "# **Two basic data structures of pandas**\n",
    "\n",
    "These are the `DataFrame` and `Series` data structures.\n",
    "\n",
    "`DataFrame` is a 2-dimensional data structure designed for handling tabular data with multiple columns.\\\n",
    "`Series` is a a 1-dimensional data structure used to represent a single column or row of data within a DataFrame or as a standalone data structure.\\\n",
    "\n",
    "Think about it like an Excel sheet. The `DataFrame` is basically the entire sheet while the `Series` is a column or row of that sheet. Therefore, a `DataFrame` is made up of `Series` data structures."
   ]
  },
  {
   "cell_type": "code",
   "execution_count": null,
   "metadata": {},
   "outputs": [],
   "source": [
    "# Three ways to create a pandas Series: From scratch, through a dict, or a list.\n",
    "\n",
    "obj = pd.Series([1,\"John\",3.5,\"Hey\"])\n",
    "obj"
   ]
  },
  {
   "cell_type": "code",
   "execution_count": null,
   "metadata": {},
   "outputs": [],
   "source": [
    "score = {\n",
    "    \"Jane\":90, \n",
    "    \"Bill\":80,\n",
    "    \"Elon\":85,\n",
    "    \"Tom\":75,\n",
    "    \"Tim\":95}\n",
    "names = pd.Series(score) # Convert to Series \n",
    "names"
   ]
  },
  {
   "cell_type": "code",
   "execution_count": null,
   "metadata": {},
   "outputs": [],
   "source": [
    "grades = [1, 2, 3, 4, 5]\n",
    "subjects = pd.Series(grades, index=[\"Math\", \"Science\", \"English\", \"AP\", \"Filipino\"])\n",
    "subjects"
   ]
  },
  {
   "cell_type": "code",
   "execution_count": null,
   "metadata": {},
   "outputs": [],
   "source": [
    "data = {\n",
    "    \"name\":[\"Bill\",\"Tom\",\"Tim\",\"John\",\"Alex\",\"Vanessa\",\"Kate\"],      \n",
    "    \"score\":[90,80,85,75,95,60,65],      \n",
    "    \"sport\":[\"Wrestling\",\"Football\",\"Skiing\",\"Swimming\",\"Tennis\",\n",
    "               \"Karete\",\"Surfing\"],      \n",
    "    \"sex\":[\"M\",\"M\",\"M\",\"M\",\"F\",\"F\",\"F\"]\n",
    "    }\n",
    "people = pd.DataFrame(data)\n",
    "people"
   ]
  },
  {
   "cell_type": "code",
   "execution_count": null,
   "metadata": {},
   "outputs": [],
   "source": [
    "# Creating two Pandas Series\n",
    "series1 = pd.Series([10, 20, 30, 40], name='Series_1')\n",
    "series2 = pd.Series(['A', 'B', 'C', 'D'], name='Series_2')\n",
    "\n",
    "# Combining the two Series into a DataFrame\n",
    "df = pd.DataFrame({'Column_1': series1, 'Column_2': series2})\n",
    "df"
   ]
  },
  {
   "cell_type": "markdown",
   "metadata": {},
   "source": [
    "# **Importing your dataset**\n",
    "\n",
    "We will be using a FIFA World Cup dataset which is a `.csv` file, a common file type you will be encountering when doing data science-related work. \n"
   ]
  },
  {
   "cell_type": "markdown",
   "metadata": {},
   "source": [
    "## *Why .csv?*\n",
    "\n",
    "CSV files are preferred in data science for their simplicity, universality, lightweight nature, version control compatibility, and flexibility compared to .xlsx files."
   ]
  },
  {
   "cell_type": "code",
   "execution_count": null,
   "metadata": {},
   "outputs": [],
   "source": [
    "fifa_data = pd.read_csv('FIFA_WorldCup_data.csv')"
   ]
  },
  {
   "cell_type": "markdown",
   "metadata": {},
   "source": [
    "Now that the .csv has been loaded to `fifa_data`, you can view it by printing the data itself."
   ]
  },
  {
   "cell_type": "code",
   "execution_count": null,
   "metadata": {},
   "outputs": [],
   "source": [
    "fifa_data"
   ]
  },
  {
   "cell_type": "code",
   "execution_count": null,
   "metadata": {},
   "outputs": [],
   "source": [
    "# You can use .head() to preview the first 5 rows.\n",
    "\n",
    "fifa_data.head()"
   ]
  },
  {
   "cell_type": "code",
   "execution_count": null,
   "metadata": {},
   "outputs": [],
   "source": [
    "# You can use .tail() to preview the first 5 rows.\n",
    "\n",
    "fifa_data.tail()"
   ]
  },
  {
   "cell_type": "code",
   "execution_count": null,
   "metadata": {},
   "outputs": [],
   "source": [
    "# .shape function tells us how many rows and columns exist in a dataframe\n",
    "\n",
    "fifa_data.shape"
   ]
  },
  {
   "cell_type": "code",
   "execution_count": null,
   "metadata": {},
   "outputs": [],
   "source": [
    "# .describe is used for calculating some statistical data like percentile, mean and std of the numerical values of the Series or DataFrame.\n",
    "\n",
    "fifa_data.describe() "
   ]
  },
  {
   "cell_type": "markdown",
   "metadata": {},
   "source": [
    "# **Indexing**\n",
    "\n",
    "Indexing is vital in data science for efficient data retrieval, manipulation, and analysis. \n",
    "\n",
    "There are three main ways of indexing pandas dataframes:\n",
    "1. Label-based\n",
    "2. Integer-based \n",
    "3. Boolean-based"
   ]
  },
  {
   "cell_type": "markdown",
   "metadata": {},
   "source": [
    "## Label-based\n",
    "\n",
    "It is using the indexing operator `[]`, `loc` indexer. You can also use the `.` attribute operator and the `at` indexer however, the first two are the most common."
   ]
  },
  {
   "cell_type": "markdown",
   "metadata": {},
   "source": [
    "## 1. Retrieve the hosts of the World Cup as a pandas Series"
   ]
  },
  {
   "cell_type": "code",
   "execution_count": null,
   "metadata": {},
   "outputs": [],
   "source": [
    "world_cup_hosts = fifa_data['HOST']\n",
    "world_cup_hosts"
   ]
  },
  {
   "cell_type": "markdown",
   "metadata": {},
   "source": [
    "Note: You can also retrieve pandas `Series` as a standalone `DataFrame by using the brackets twice."
   ]
  },
  {
   "cell_type": "code",
   "execution_count": null,
   "metadata": {},
   "outputs": [],
   "source": [
    "world_cup_hosts_df = fifa_data[['HOST']]\n",
    "world_cup_hosts_df"
   ]
  },
  {
   "cell_type": "code",
   "execution_count": null,
   "metadata": {},
   "outputs": [],
   "source": [
    "print(type(world_cup_hosts))\n",
    "print(type(world_cup_hosts_df))"
   ]
  },
  {
   "cell_type": "markdown",
   "metadata": {},
   "source": [
    "## 2. Retrieve data for the World Cups held after 1970."
   ]
  },
  {
   "cell_type": "code",
   "execution_count": null,
   "metadata": {},
   "outputs": [],
   "source": [
    "world_cup_after_1970 = fifa_data.loc[fifa_data['YEAR'] > 1970]\n",
    "world_cup_after_1970"
   ]
  },
  {
   "cell_type": "markdown",
   "metadata": {},
   "source": [
    "Note: You can also use `loc` to query multiple rows and columns.\n",
    "\n",
    "It is in the format: `.loc[rows, cols]`"
   ]
  },
  {
   "cell_type": "code",
   "execution_count": null,
   "metadata": {},
   "outputs": [],
   "source": [
    "# Retrieve all rows with the corresponding year and the top three winners.\n",
    "\n",
    "world_cup_winners = fifa_data.loc[:, ['YEAR', 'CHAMPION', 'RUNNER UP', 'THIRD PLACE']]\n",
    "world_cup_winners "
   ]
  },
  {
   "cell_type": "markdown",
   "metadata": {},
   "source": [
    "## Position-based\n",
    "\n",
    "It is using the indexing operator `[]`, `iloc` indexer."
   ]
  },
  {
   "cell_type": "markdown",
   "metadata": {},
   "source": [
    "## 1. Retrieve data for the first World Cup entry."
   ]
  },
  {
   "cell_type": "code",
   "execution_count": null,
   "metadata": {},
   "outputs": [],
   "source": [
    "first_entry = fifa_data.iloc[0]\n",
    "first_entry"
   ]
  },
  {
   "cell_type": "markdown",
   "metadata": {},
   "source": [
    "Note: You can also use `iloc` to query multiple rows and columns.\n",
    "\n",
    "It is in the format: `.iloc[rows, cols]`"
   ]
  },
  {
   "cell_type": "code",
   "execution_count": null,
   "metadata": {},
   "outputs": [],
   "source": [
    "# Retrieve all rows with the corresponding year and the top three winners.\n",
    "\n",
    "world_cup_winners = fifa_data.iloc[:, [0, 2, 3, 4]]\n",
    "world_cup_winners "
   ]
  },
  {
   "cell_type": "markdown",
   "metadata": {},
   "source": [
    "## 2. Retrieve data for the first 5 World Cup Entries."
   ]
  },
  {
   "cell_type": "code",
   "execution_count": null,
   "metadata": {},
   "outputs": [],
   "source": [
    "last_entry = fifa_data[:5]\n",
    "last_entry"
   ]
  },
  {
   "cell_type": "markdown",
   "metadata": {},
   "source": [
    "Note: The `[]` operator does not work for querying one row. You're better off using `.iloc` for that."
   ]
  }
 ],
 "metadata": {
  "kernelspec": {
   "display_name": "Python 3",
   "language": "python",
   "name": "python3"
  },
  "language_info": {
   "codemirror_mode": {
    "name": "ipython",
    "version": 3
   },
   "file_extension": ".py",
   "mimetype": "text/x-python",
   "name": "python",
   "nbconvert_exporter": "python",
   "pygments_lexer": "ipython3",
   "version": "3.10.5"
  }
 },
 "nbformat": 4,
 "nbformat_minor": 2
}
