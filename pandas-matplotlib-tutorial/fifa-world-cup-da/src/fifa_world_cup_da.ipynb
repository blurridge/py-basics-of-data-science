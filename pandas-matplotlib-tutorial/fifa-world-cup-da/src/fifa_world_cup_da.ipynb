{
 "cells": [
  {
   "attachments": {},
   "cell_type": "markdown",
   "metadata": {},
   "source": [
    "# **FIFA World Cup (1930 - 2018) by the Numbers** \n",
    "\n",
    "As the 2022 FIFA World Cup comes to a close and with Messi finally winning his first ever World Cup, let's try and take a look back on the from the birth of the Copa Mundial until its recent iteration to see how it has evolved throughout the decades. \n",
    "\n",
    "**The questions we seek to answer in this Exploratory Data Analysis are:**\n",
    "1. Which team has won the most World Cups?\n",
    "2. Does being host give a better chance of a World Cup Win?\n",
    "3. How many unique teams have joined the World Cup?\n",
    "4. Which team has the most World Cup appearances? Which ones have the least?\n",
    "5. How has goalscoring improved throughout the years?\n",
    "6. How many goals do championship teams usually score and concede?"
   ]
  },
  {
   "attachments": {},
   "cell_type": "markdown",
   "metadata": {},
   "source": [
    "## Setup\n",
    "Next cell imports all Python libraries needed for the project."
   ]
  },
  {
   "cell_type": "code",
   "execution_count": null,
   "metadata": {},
   "outputs": [],
   "source": [
    "import pandas as pd\n",
    "import matplotlib.pyplot as plt\n",
    "%matplotlib inline\n",
    "import seaborn as sns"
   ]
  },
  {
   "attachments": {},
   "cell_type": "markdown",
   "metadata": {},
   "source": [
    "## Import all datasets\n",
    "Each import will be showing its first 5 rows of data as a preview."
   ]
  },
  {
   "cell_type": "code",
   "execution_count": null,
   "metadata": {},
   "outputs": [],
   "source": [
    "wc_1930 = pd.read_csv(\"../data/FIFA - 1930.csv\", index_col=\"Position\")\n",
    "wc_1930.head()"
   ]
  },
  {
   "cell_type": "code",
   "execution_count": null,
   "metadata": {},
   "outputs": [],
   "source": [
    "wc_1934 = pd.read_csv(\"../data/FIFA - 1934.csv\", index_col=\"Position\")\n",
    "wc_1934.head()"
   ]
  },
  {
   "cell_type": "code",
   "execution_count": null,
   "metadata": {},
   "outputs": [],
   "source": [
    "wc_1938 = pd.read_csv(\"../data/FIFA - 1938.csv\", index_col=\"Position\")\n",
    "wc_1938.head()"
   ]
  },
  {
   "cell_type": "code",
   "execution_count": null,
   "metadata": {},
   "outputs": [],
   "source": [
    "wc_1950 = pd.read_csv(\"../data/FIFA - 1950.csv\", index_col=\"Position\")\n",
    "wc_1950.head()"
   ]
  },
  {
   "cell_type": "code",
   "execution_count": null,
   "metadata": {},
   "outputs": [],
   "source": [
    "wc_1954 = pd.read_csv(\"../data/FIFA - 1954.csv\", index_col=\"Position\")\n",
    "wc_1954.head()"
   ]
  },
  {
   "cell_type": "code",
   "execution_count": null,
   "metadata": {},
   "outputs": [],
   "source": [
    "wc_1958 = pd.read_csv(\"../data/FIFA - 1958.csv\", index_col=\"Position\")\n",
    "wc_1958.head()"
   ]
  },
  {
   "cell_type": "code",
   "execution_count": null,
   "metadata": {},
   "outputs": [],
   "source": [
    "wc_1962 = pd.read_csv(\"../data/FIFA - 1962.csv\", index_col=\"Position\")\n",
    "wc_1962.head()"
   ]
  },
  {
   "cell_type": "code",
   "execution_count": null,
   "metadata": {},
   "outputs": [],
   "source": [
    "wc_1966 = pd.read_csv(\"../data/FIFA - 1966.csv\", index_col=\"Position\")\n",
    "wc_1966.head()"
   ]
  },
  {
   "cell_type": "code",
   "execution_count": null,
   "metadata": {},
   "outputs": [],
   "source": [
    "wc_1970 = pd.read_csv(\"../data/FIFA - 1970.csv\", index_col=\"Position\")\n",
    "wc_1970.head()"
   ]
  },
  {
   "cell_type": "code",
   "execution_count": null,
   "metadata": {},
   "outputs": [],
   "source": [
    "wc_1974 = pd.read_csv(\"../data/FIFA - 1974.csv\", index_col=\"Position\")\n",
    "wc_1974.head()"
   ]
  },
  {
   "cell_type": "code",
   "execution_count": null,
   "metadata": {},
   "outputs": [],
   "source": [
    "wc_1978 = pd.read_csv(\"../data/FIFA - 1978.csv\", index_col=\"Position\")\n",
    "wc_1978.head()"
   ]
  },
  {
   "cell_type": "code",
   "execution_count": null,
   "metadata": {},
   "outputs": [],
   "source": [
    "wc_1982 = pd.read_csv(\"../data/FIFA - 1982.csv\", index_col=\"Position\")\n",
    "wc_1982.head()"
   ]
  },
  {
   "cell_type": "code",
   "execution_count": null,
   "metadata": {},
   "outputs": [],
   "source": [
    "wc_1986 = pd.read_csv(\"../data/FIFA - 1986.csv\", index_col=\"Position\")\n",
    "wc_1986.head()"
   ]
  },
  {
   "cell_type": "code",
   "execution_count": null,
   "metadata": {},
   "outputs": [],
   "source": [
    "wc_1990 = pd.read_csv(\"../data/FIFA - 1990.csv\", index_col=\"Position\")\n",
    "wc_1990.head()"
   ]
  },
  {
   "cell_type": "code",
   "execution_count": null,
   "metadata": {},
   "outputs": [],
   "source": [
    "wc_1994 = pd.read_csv(\"../data/FIFA - 1994.csv\", index_col=\"Position\")\n",
    "wc_1994.head()"
   ]
  },
  {
   "cell_type": "code",
   "execution_count": null,
   "metadata": {},
   "outputs": [],
   "source": [
    "wc_1998 = pd.read_csv(\"../data/FIFA - 1998.csv\", index_col=\"Position\")\n",
    "wc_1998.head()"
   ]
  },
  {
   "cell_type": "code",
   "execution_count": null,
   "metadata": {},
   "outputs": [],
   "source": [
    "wc_2002 = pd.read_csv(\"../data/FIFA - 2002.csv\", index_col=\"Position\")\n",
    "wc_2002.head()"
   ]
  },
  {
   "cell_type": "code",
   "execution_count": null,
   "metadata": {},
   "outputs": [],
   "source": [
    "wc_2006 = pd.read_csv(\"../data/FIFA - 2006.csv\", index_col=\"Position\")\n",
    "wc_2006.head()"
   ]
  },
  {
   "cell_type": "code",
   "execution_count": null,
   "metadata": {},
   "outputs": [],
   "source": [
    "wc_2010 = pd.read_csv(\"../data/FIFA - 2010.csv\", index_col=\"Position\")\n",
    "wc_2010.head()"
   ]
  },
  {
   "cell_type": "code",
   "execution_count": null,
   "metadata": {},
   "outputs": [],
   "source": [
    "wc_2014 = pd.read_csv(\"../data/FIFA - 2014.csv\", index_col=\"Position\")\n",
    "wc_2014.head()"
   ]
  },
  {
   "cell_type": "code",
   "execution_count": null,
   "metadata": {},
   "outputs": [],
   "source": [
    "wc_2018 = pd.read_csv(\"../data/FIFA - 2018.csv\", index_col=\"Position\")\n",
    "wc_2018.head()"
   ]
  },
  {
   "cell_type": "code",
   "execution_count": null,
   "metadata": {},
   "outputs": [],
   "source": [
    "wc_summ = pd.read_csv(\"../data/FIFA - World Cup Summary.csv\", index_col=\"YEAR\")\n",
    "wc_summ.head()"
   ]
  },
  {
   "cell_type": "code",
   "execution_count": null,
   "metadata": {},
   "outputs": [],
   "source": [
    "# Generate a list containing all dataframes for later use\n",
    "\n",
    "df_list = [wc_1930, wc_1934, wc_1938, wc_1950, wc_1954, wc_1958, wc_1962, wc_1966, wc_1970, wc_1974, wc_1978, wc_1982, wc_1986, wc_1990, wc_1994, wc_1998, wc_2002, wc_2006,\n",
    "wc_2010, wc_2014, wc_2018]"
   ]
  },
  {
   "attachments": {},
   "cell_type": "markdown",
   "metadata": {},
   "source": [
    "## Plots and Analysis\n",
    "\n",
    "### 1. Which team has won the most World Cups?"
   ]
  },
  {
   "cell_type": "code",
   "execution_count": null,
   "metadata": {},
   "outputs": [],
   "source": [
    "# Generate a count plot of World Cup wins per Team\n",
    "\n",
    "plt.figure(figsize=(14,9))\n",
    "plt.title(\"Number of World Cup Wins per Team\")\n",
    "sns.countplot(data=wc_summ, x=\"CHAMPION\", order=wc_summ['CHAMPION'].value_counts().index)\n",
    "plt.xlabel(\"Team\")"
   ]
  },
  {
   "attachments": {},
   "cell_type": "markdown",
   "metadata": {},
   "source": [
    "Based on the plot, Brazil has won the most World Cups at 5 followed by Italy with 4, and West Germany with 3. Ironically, the countries that hold the largest leagues globally have the least amount of World Cup wins at 1 each with England (EPL), Spain (La Liga), and Germany (Bundesliga). It can be inferred that players in these leagues are foreign and not from their grassroots programs."
   ]
  },
  {
   "attachments": {},
   "cell_type": "markdown",
   "metadata": {},
   "source": [
    "### 2. Does being host give a better chance of a World Cup Win?\n"
   ]
  },
  {
   "cell_type": "code",
   "execution_count": null,
   "metadata": {},
   "outputs": [],
   "source": [
    "# Add a new column to the dataframe which represents a boolean if host country won \n",
    "\n",
    "host_won = []\n",
    "for index, row in wc_summ.iterrows():\n",
    "    host_won.append(row[\"HOST\"] == row[\"CHAMPION\"])\n",
    "wc_summ[\"HOST WON\"] = host_won"
   ]
  },
  {
   "cell_type": "code",
   "execution_count": null,
   "metadata": {},
   "outputs": [],
   "source": [
    "# Generate a count plot of booleans that indicates that the host country won\n",
    "\n",
    "plt.figure(figsize=(10,9))\n",
    "plt.title(\"Number of Host Country Wins\")\n",
    "sns.countplot(data=wc_summ, x=\"HOST WON\")\n",
    "plt.xlabel(\"Boolean for Host Country Wins\")"
   ]
  },
  {
   "cell_type": "code",
   "execution_count": null,
   "metadata": {},
   "outputs": [],
   "source": [
    "# Calculating percentage of Host Country Wins\n",
    "\n",
    "host_win_total = len(wc_summ[wc_summ[\"HOST WON\"] == True]) \n",
    "tournament_total = len(wc_summ) \n",
    "host_win_percentage = (host_win_total/tournament_total)*100\n",
    "host_win_percentage"
   ]
  },
  {
   "attachments": {},
   "cell_type": "markdown",
   "metadata": {},
   "source": [
    "Host countries have won 6 out of 21 World Cups at around 28.57% win rate. Without considering the ranking and skill level of the host country's national team, home court advantage does not appear to be significant in winning the World Cup."
   ]
  },
  {
   "attachments": {},
   "cell_type": "markdown",
   "metadata": {},
   "source": [
    "## 3. How many unique teams have joined the World Cup?"
   ]
  },
  {
   "cell_type": "code",
   "execution_count": null,
   "metadata": {},
   "outputs": [],
   "source": [
    "# Generate list of teams and unique teams\n",
    "\n",
    "list_of_teams = []\n",
    "for tournament in df_list:\n",
    "    for team in tournament[\"Team\"]:\n",
    "        list_of_teams.append(team)\n",
    "unique_teams = list(set(list_of_teams))\n",
    "print(f\"There are {len(unique_teams)} unique teams out of the {len(list_of_teams)} that have participated in the history of the World Cup.\")"
   ]
  },
  {
   "attachments": {},
   "cell_type": "markdown",
   "metadata": {},
   "source": [
    "## 4. Which team has the most World Cup appearances? Which ones have the least?"
   ]
  },
  {
   "cell_type": "code",
   "execution_count": null,
   "metadata": {},
   "outputs": [],
   "source": [
    "# Calculate number of appearances per team in the World Cup \n",
    "\n",
    "team_apps = {\n",
    "    \"Team\": [],\n",
    "    \"Appearances\": []\n",
    "}\n",
    "for team in unique_teams:\n",
    "    team_apps[\"Team\"].append(team)\n",
    "    team_apps[\"Appearances\"].append(list_of_teams.count(team))\n",
    "team_apps_data = pd.DataFrame(team_apps).sort_values(by=\"Appearances\", ascending=False).reset_index(drop=True)\n",
    "team_apps_data.head()"
   ]
  },
  {
   "cell_type": "code",
   "execution_count": null,
   "metadata": {},
   "outputs": [],
   "source": [
    "team_apps_data.tail()"
   ]
  },
  {
   "attachments": {},
   "cell_type": "markdown",
   "metadata": {},
   "source": [
    "Brazil has attended all World Cups at 21 appearances followed by Italy with 18, Argentina with 17, Mexico with 16, and England with 15. The ones with the least are the Czech Republic, Slovakia, Togo, Serbia and Montenegro, and Jamaica with 1 appearance each."
   ]
  },
  {
   "attachments": {},
   "cell_type": "markdown",
   "metadata": {},
   "source": [
    "## 5. How has goalscoring improved throughout the years?"
   ]
  },
  {
   "cell_type": "code",
   "execution_count": null,
   "metadata": {},
   "outputs": [],
   "source": [
    "# Generate plot for total goals per year\n",
    "\n",
    "plt.figure(figsize=(14,9))\n",
    "plt.title(\"Total Goals per Year\")\n",
    "sns.scatterplot(x=wc_summ.index, y=wc_summ[\"GOALS SCORED\"])\n",
    "sns.regplot(x=wc_summ.index, y=wc_summ[\"GOALS SCORED\"])\n",
    "plt.xlabel(\"Year\")\n",
    "plt.ylabel(\"Goals Scored\")"
   ]
  },
  {
   "cell_type": "code",
   "execution_count": null,
   "metadata": {},
   "outputs": [],
   "source": [
    "# Generate plot for average number of goals per game per year\n",
    "\n",
    "plt.figure(figsize=(14,9))\n",
    "plt.title(\"Average Goals per Game\")\n",
    "sns.scatterplot(x=wc_summ.index, y=wc_summ[\"AVG GOALS PER GAME\"])\n",
    "sns.regplot(x=wc_summ.index, y=wc_summ[\"AVG GOALS PER GAME\"])\n",
    "plt.xlabel(\"Year\")\n",
    "plt.ylabel(\"Average Goals per Game\")"
   ]
  },
  {
   "cell_type": "code",
   "execution_count": null,
   "metadata": {},
   "outputs": [],
   "source": [
    "# Generate plot for total matches per year\n",
    "\n",
    "plt.figure(figsize=(14,9))\n",
    "plt.title(\"Total Matches per Year\")\n",
    "sns.scatterplot(x=wc_summ.index, y=wc_summ[\"MATCHES PLAYED\"])\n",
    "sns.regplot(x=wc_summ.index, y=wc_summ[\"MATCHES PLAYED\"])\n",
    "plt.xlabel(\"Year\")\n",
    "plt.ylabel(\"Matches per Year\")"
   ]
  },
  {
   "attachments": {},
   "cell_type": "markdown",
   "metadata": {},
   "source": [
    "Based from the plots, total goals per year is increasing. This led me to the question whether teams are getting better at scoring or not. Through the average goals per year plot, it showed that teams are getting better defensively instead of goalscoring due to the average amount of goals per game going at a downward trend. Therefore, total goals per year can be attributed to the increasing amount of matches instead of teams getting better at scoring."
   ]
  },
  {
   "attachments": {},
   "cell_type": "markdown",
   "metadata": {},
   "source": [
    "## 6. How many goals do championship teams usually score and concede?"
   ]
  },
  {
   "cell_type": "code",
   "execution_count": null,
   "metadata": {},
   "outputs": [],
   "source": [
    "# Generate champion data\n",
    "\n",
    "champion_data = {\n",
    "    \"Year\": [1930, 1934, 1938, 1950, 1954, 1958, 1962, 1966, 1970, 1974, 1978, 1982, 1986, 1990, 1994, 1998, 2002, 2006, 2010, 2014, 2018],\n",
    "    \"Team\": [],\n",
    "    \"Goals Scored\": [],\n",
    "    \"Goals Conceded\": [],\n",
    "}\n",
    "\n",
    "for tournament in df_list:\n",
    "    champion_data[\"Team\"].append(tournament.iloc[0][\"Team\"])\n",
    "    champion_data[\"Goals Scored\"].append(tournament.iloc[0][\"Goals For\"])\n",
    "    champion_data[\"Goals Conceded\"].append(tournament.iloc[0][\"Goals Against\"])\n",
    "\n",
    "champion_df = pd.DataFrame(champion_data).set_index(\"Year\")\n",
    "champion_df.head()"
   ]
  },
  {
   "cell_type": "code",
   "execution_count": null,
   "metadata": {},
   "outputs": [],
   "source": [
    "# Generate probability density of champions' goals scored and conceded\n",
    "\n",
    "plt.title(\"Probability Density of Champions' Goal Stats\")\n",
    "sns.kdeplot(data=champion_df[\"Goals Scored\"], color='r', fill=True, label=\"Goals Scored\")\n",
    "sns.kdeplot(data=champion_df[\"Goals Conceded\"], color='b', fill=True, label=\"Goals Conceded\")\n",
    "plt.legend()\n",
    "plt.xlabel(\"Goals\")\n",
    "plt.ylabel(\"Probability Density\")"
   ]
  },
  {
   "attachments": {},
   "cell_type": "markdown",
   "metadata": {},
   "source": [
    "Champions usually score around 15 goals while conceding around 3 - 4 goals. Champions usually don't occur in teams that score more than 20 and less than 6 - 8. While in conceding, they don't occur in teams that concede more than 10. However there are extreme cases where champions rose from scoring 25 goals and conceding around 13 goals."
   ]
  }
 ],
 "metadata": {
  "kernelspec": {
   "display_name": "Python 3",
   "language": "python",
   "name": "python3"
  },
  "language_info": {
   "codemirror_mode": {
    "name": "ipython",
    "version": 3
   },
   "file_extension": ".py",
   "mimetype": "text/x-python",
   "name": "python",
   "nbconvert_exporter": "python",
   "pygments_lexer": "ipython3",
   "version": "3.10.5"
  },
  "orig_nbformat": 4,
  "vscode": {
   "interpreter": {
    "hash": "26de051ba29f2982a8de78e945f0abaf191376122a1563185a90213a26c5da77"
   }
  }
 },
 "nbformat": 4,
 "nbformat_minor": 2
}
