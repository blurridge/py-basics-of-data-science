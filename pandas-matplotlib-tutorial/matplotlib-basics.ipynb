{
 "cells": [
  {
   "cell_type": "markdown",
   "metadata": {},
   "source": [
    "# **What is matplotlib?**\n",
    "![matplotlib-image](https://camo.githubusercontent.com/55a55cebad6360bda8bca520c61e0e195dc7ee413bf9982f1ba86cab496f2388/68747470733a2f2f6d6174706c6f746c69622e6f72672f5f7374617469632f6c6f676f322e737667)\n",
    "\n",
    "Matplotlib is a comprehensive library for creating static, interactive, and animated visualizations in Python. It provides a MATLAB-like interface and is highly customizable, allowing users to create a wide variety of plots and charts, including line plots, scatter plots, bar charts, histograms, pie charts, and more. Matplotlib is often used for basic plotting tasks as well as for creating publication-quality figures and graphics.\n",
    "\n",
    "# **What is seaborn?**\n",
    "![seaborn-image](https://seaborn.pydata.org/_images/logo-wide-lightbg.svg)\n",
    "\n",
    "Seaborn is a statistical data visualization library built on top of Matplotlib. It provides a high-level interface for creating attractive and informative statistical graphics. Seaborn simplifies the process of creating complex visualizations such as categorical plots, violin plots, box plots, pair plots, and heatmap visualizations. Seaborn is designed to work seamlessly with pandas data structures and integrates well with statistical analysis tools in Python.\n",
    "\n",
    "# **What is their difference?**\n",
    "\n",
    "- Seaborn and Matplotlib are popular Python libraries for data visualization.\n",
    "- Matplotlib offers extensive control over plot customization and is suitable for basic plots like line, scatter, and bar charts.\n",
    "- It is highly customizable and capable of creating complex visualizations.\n",
    "- Seaborn, built on Matplotlib, provides a higher-level interface for statistical graphics.\n",
    "- It integrates well with Pandas dataframes and offers easy-to-use functions for complex plots like heatmaps, violin plots, and box plots.\n",
    "- Matplotlib is ideal for users who require complete control and complexity in their plots.\n",
    "- Seaborn is preferred for quick creation of statistical graphics with minimal effort, especially when working with dataframes.\n",
    "- Choosing between Seaborn and Matplotlib depends on specific needs and preferences."
   ]
  },
  {
   "cell_type": "markdown",
   "metadata": {},
   "source": [
    "# **How do I install matplotlib and seaborn?**"
   ]
  },
  {
   "cell_type": "markdown",
   "metadata": {},
   "source": [
    "1. Go on your terminal and run `pip install seaborn`. \n",
    "2. Go to a `.ipynb` or `.py` project and call matplotlib and seaborn by importing it."
   ]
  }
 ],
 "metadata": {
  "kernelspec": {
   "display_name": "Python 3",
   "language": "python",
   "name": "python3"
  },
  "language_info": {
   "codemirror_mode": {
    "name": "ipython",
    "version": 3
   },
   "file_extension": ".py",
   "mimetype": "text/x-python",
   "name": "python",
   "nbconvert_exporter": "python",
   "pygments_lexer": "ipython3",
   "version": "3.10.5"
  }
 },
 "nbformat": 4,
 "nbformat_minor": 2
}
