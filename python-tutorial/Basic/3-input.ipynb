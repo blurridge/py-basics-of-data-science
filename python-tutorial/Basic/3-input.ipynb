{
 "cells": [
  {
   "attachments": {},
   "cell_type": "markdown",
   "metadata": {},
   "source": [
    "# The `input(prompt)` Function\n",
    "\n",
    "**Arguments**:\n",
    "- `prompt`: `str`, representing a default message before the input.\n",
    "\n",
    "**Returns**:\n",
    "- `str`, the input of the user into the terminal."
   ]
  },
  {
   "cell_type": "code",
   "execution_count": null,
   "metadata": {},
   "outputs": [],
   "source": [
    "user = input(\"Enter username:\")\n",
    "print(f\"Welcome back, {user}!\")"
   ]
  },
  {
   "cell_type": "code",
   "execution_count": null,
   "metadata": {},
   "outputs": [],
   "source": [
    "num = int(input(\"Enter a number to add to 2:\"))\n",
    "result = 2 + num\n",
    "print(result)\n",
    "\n",
    "# THIS IS A COMMON PITFALL:\n",
    "# input() will ALWAYS return a str, so we have to convert it using type casting to a number\n",
    "# \"How do we fix it?\"\""
   ]
  }
 ],
 "metadata": {
  "kernelspec": {
   "display_name": "Python 3",
   "language": "python",
   "name": "python3"
  },
  "language_info": {
   "codemirror_mode": {
    "name": "ipython",
    "version": 3
   },
   "file_extension": ".py",
   "mimetype": "text/x-python",
   "name": "python",
   "nbconvert_exporter": "python",
   "pygments_lexer": "ipython3",
   "version": "3.10.5"
  },
  "orig_nbformat": 4,
  "vscode": {
   "interpreter": {
    "hash": "f2ccb58c476f33ba3e3aee7ac07234ef6b8217ef24ad64d2a7d4fed1a57c1cd2"
   }
  }
 },
 "nbformat": 4,
 "nbformat_minor": 2
}
