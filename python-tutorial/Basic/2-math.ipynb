{
 "cells": [
  {
   "attachments": {},
   "cell_type": "markdown",
   "metadata": {},
   "source": [
    "# Numeric Operators\n",
    "\n",
    "They work as intended on `int` and `float` numbers, but may act differently with `str` or `bool`.\n",
    "\n",
    "> better experiment & if you find something acting unexpectedly, **research the implementation**!\n",
    "\n",
    "| Python Operator | Mathematical Operation | C Operator |\n",
    "|-----------------|------------------------|------------|\n",
    "|`+`| Addition | `+` |\n",
    "|`-`| Subtraction | `-` |\n",
    "|`*`| Multiplication | `*` |\n",
    "|`/`| Division | `/` |\n",
    "|`**`| **Power** | `pow(base, exponent)` |\n",
    "|`%`| Remainder | `%` |\n",
    "\n",
    "Python has the power operator implemented by default and is denoted by `**`."
   ]
  },
  {
   "cell_type": "code",
   "execution_count": null,
   "metadata": {},
   "outputs": [],
   "source": [
    "# assign the expression {1 + 3.2} to the variable named x\n",
    "x = 1 + 3.2\n",
    "# print the value of x\n",
    "print(f\"The value of x is = {x}\")"
   ]
  },
  {
   "cell_type": "code",
   "execution_count": null,
   "metadata": {},
   "outputs": [],
   "source": [
    "# 2 raised to 3\n",
    "print(f\"2^3 is = {2 ** 3}\")"
   ]
  },
  {
   "cell_type": "code",
   "execution_count": null,
   "metadata": {},
   "outputs": [],
   "source": [
    "# str plus a str\n",
    "x = \"Hello \" + \"World\"\n",
    "print(x)"
   ]
  },
  {
   "cell_type": "code",
   "execution_count": null,
   "metadata": {},
   "outputs": [],
   "source": [
    "# what will happen?\n",
    "x = 1 + True # 1 / Truer / 11 \n",
    "print(f\"The value of x is {x} with a type of {type(x)}\")\n",
    "\n",
    "# huh, that's weird, let me try rearranging\n",
    "x = True + 1 # 1 / Truer / 11 \n",
    "print(f\"The value of x is {x} with a type of {type(x)}\")\n",
    "\n",
    "# what? how about False?\n",
    "x = False + 1 # True / 1 \n",
    "print(f\"The value of x is {x} with a type of {type(x)}\")\n",
    "\n",
    "# interesting, how about when both operands are bool types?\n",
    "x = False + True # True / False\n",
    "print(f\"The value of x is {x} with a type of {type(x)}\")"
   ]
  },
  {
   "attachments": {},
   "cell_type": "markdown",
   "metadata": {},
   "source": [
    "# Type Casting in Python\n",
    "\n",
    "Type casting in Python is as easy as typing the type's respective function `dataType(expr)`.\n",
    "- This converts the `expr` into your `dataType` of choice."
   ]
  },
  {
   "cell_type": "code",
   "execution_count": null,
   "metadata": {},
   "outputs": [],
   "source": [
    "x = \"5\"\n",
    "print(\"Old type:\", type(x), x)\n",
    "\n",
    "x = int(x)\n",
    "print(\"New type:\", type(x), x) # looks like we can turn str into numbers with ease\n",
    "\n",
    "x = bool(x)\n",
    "print(\"In bool:\", type(x), x)  # bool() returns based on 'Truthy'/'Falsy' values\n",
    "print(bool(None), bool(\"\"), bool(\"hi\"), bool(0), bool(-1153), bool(1231))"
   ]
  },
  {
   "attachments": {},
   "cell_type": "markdown",
   "metadata": {},
   "source": [
    "# 'Falsy' Values When Passed Into `bool()`\n",
    "\n",
    "Here are a few cases, in which Python’s `bool()` method returns false.\n",
    "\n",
    "- If a `False` value is passed\n",
    "- If `None` is passed\n",
    "- If an empty sequence is passed, such as `()`, `[]`, `\"\"`, etc.\n",
    "- If Zero is passed in any numeric type, such as `0`, `0.0` etc\n",
    "- If an empty mapping is passed, such as `{}`\n",
    "- If Objects of Classes having __bool__() or __len()__ method, returning `0` or `False`\n",
    "\n",
    "<u>Everything outside this list should return `True`</u>"
   ]
  },
  {
   "attachments": {},
   "cell_type": "markdown",
   "metadata": {},
   "source": [
    "# Boolean Expressions\n",
    "\n",
    "- values and a combination of operands with Boolean Operators that evaluate to either `bool` `True` or `False`.\n",
    "- used for *Conditional Execution* like `if-else` statements and `while` loops.\n",
    "\n",
    "### Comparison Operators\n",
    "\n",
    "- when used on **NUMBERS**, like `int` and `float`, it compares **NUMERICAL VALUE**.\n",
    "- when used on **STRINGS**, `str`, it compares **ALPHABETICAL ORDER** (in Unicode's 149,186 characters).\n",
    "- other types have different behaviors & implementations when compared - *search them up if you're curious*!\n",
    "\n",
    "| Python Operator | Plain English | C Operator |\n",
    "|-----------------|------------------------|------------|\n",
    "|`<`| Less than | `<` |\n",
    "|`<=`| Less than OR Equal to | `<=` |\n",
    "|`==`| Equal to | `==` |\n",
    "|`>`| Greater than | `>` |\n",
    "|`>=`| Greater than OR Equal to | `>=` |\n",
    "|`!=`| Not equal | `!=` |"
   ]
  },
  {
   "cell_type": "code",
   "execution_count": null,
   "metadata": {},
   "outputs": [],
   "source": [
    "# a boolean expression that evaluates to either True or False\n",
    "x = 1 < 9\n",
    "print(x, type(x))\n",
    "\n",
    "# is 1 \"Greater than\" 1?\n",
    "x = 1 > 1\n",
    "print(x, type(x))\n",
    "\n",
    "# is 1 \"Greater than\" True?\n",
    "x = 1 == True\n",
    "print(x, type(x))\n",
    "# remember what numerical value is True implicitly typecasts to?"
   ]
  },
  {
   "attachments": {},
   "cell_type": "markdown",
   "metadata": {},
   "source": [
    "### Logical Operators\n",
    "\n",
    "- `and` expressions evaluate to the first ***Falsy*** value\n",
    "- `or` expressions evaluate to the first ***Truthy*** value\n",
    "- `not` typecasts its operand into a `bool`, and inverses its value\n",
    "\n",
    "\n",
    "| Python Operator | Logical Operation | C Operator |\n",
    "|-----------------|------------------------|------------|\n",
    "|`and`| Conjunction | `&&` |\n",
    "|`or`| Disjunction |` \\|\\| `|\n",
    "|`not`| Negation | `!` |\n"
   ]
  },
  {
   "cell_type": "code",
   "execution_count": null,
   "metadata": {},
   "outputs": [],
   "source": [
    "# is (77 Equal to 77) AND (9 Equal to 420) ?\n",
    "print(77 == 77 and 9 == 420)\n",
    "\n",
    "# evaluates to the first Truthy statement\n",
    "print(False or True or 100)\n",
    "\n",
    "# evaluates to the first Falsy statement\n",
    "print(True and 0 and False)\n",
    "\n",
    "# typecasts the operand to a bool and inverses it\n",
    "print(not True)\n",
    "\n",
    "# what is the output here?\n",
    "print(not -1, not True, not 0, not False)"
   ]
  }
 ],
 "metadata": {
  "kernelspec": {
   "display_name": "Python 3",
   "language": "python",
   "name": "python3"
  },
  "language_info": {
   "codemirror_mode": {
    "name": "ipython",
    "version": 3
   },
   "file_extension": ".py",
   "mimetype": "text/x-python",
   "name": "python",
   "nbconvert_exporter": "python",
   "pygments_lexer": "ipython3",
   "version": "3.10.5"
  },
  "orig_nbformat": 4,
  "vscode": {
   "interpreter": {
    "hash": "f2ccb58c476f33ba3e3aee7ac07234ef6b8217ef24ad64d2a7d4fed1a57c1cd2"
   }
  }
 },
 "nbformat": 4,
 "nbformat_minor": 2
}
