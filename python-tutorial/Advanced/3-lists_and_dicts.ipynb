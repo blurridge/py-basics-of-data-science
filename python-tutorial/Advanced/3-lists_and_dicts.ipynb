{
 "cells": [
  {
   "attachments": {},
   "cell_type": "markdown",
   "metadata": {},
   "source": [
    "# **Lists and Dictionaries**\n",
    "\n",
    "These are the two types of data structures in Python that you will encounter frequently."
   ]
  },
  {
   "attachments": {},
   "cell_type": "markdown",
   "metadata": {},
   "source": [
    "## **Lists**\n",
    "\n",
    "Similar to an array in C. However what makes it different is that data types do not need to be the same. A single list may contain data types like `int`, `str`, etc. Lists are mutable, and hence, they can be altered even after their creation.\n",
    "\n",
    "Lists can be initialized in 3 ways:\n",
    "### Syntax:\n",
    "```Python\n",
    "# Initializing without values\n",
    "list_one = list()\n",
    "list_two = []\n",
    "\n",
    "# Initializing with values\n",
    "list_three = [1, 2, 3]\n",
    "```"
   ]
  },
  {
   "attachments": {},
   "cell_type": "markdown",
   "metadata": {},
   "source": [
    "## **List Methods**\n",
    "Lists have different methods that allow you to modify the list.\n",
    "\n",
    "These are some of the most frequently used methods:\n",
    "1. `append()` - adds item to list\n",
    "2. `clear()` - removes all items from list\n",
    "3. `sort()` - sorts the list\n",
    "4. `count()` - returns the number of elements with the specified value\n",
    "5. `pop(n)` - removes the element at the specified index n.\n",
    "\n",
    "and many more!"
   ]
  },
  {
   "cell_type": "code",
   "execution_count": null,
   "metadata": {},
   "outputs": [],
   "source": [
    "lst = list()\n",
    "print(lst)"
   ]
  },
  {
   "cell_type": "code",
   "execution_count": null,
   "metadata": {},
   "outputs": [],
   "source": [
    "lst.append(1) # Adds the number one to the list\n",
    "print(lst)"
   ]
  },
  {
   "cell_type": "code",
   "execution_count": null,
   "metadata": {},
   "outputs": [],
   "source": [
    "lst.append(2)\n",
    "lst.append(3)\n",
    "print(lst)"
   ]
  },
  {
   "cell_type": "code",
   "execution_count": null,
   "metadata": {},
   "outputs": [],
   "source": [
    "lst.clear()\n",
    "print(lst)"
   ]
  },
  {
   "cell_type": "code",
   "execution_count": null,
   "metadata": {},
   "outputs": [],
   "source": [
    "lst.append(3)\n",
    "lst.append(1)\n",
    "lst.append(2)\n",
    "print(lst)"
   ]
  },
  {
   "cell_type": "code",
   "execution_count": null,
   "metadata": {},
   "outputs": [],
   "source": [
    "lst.sort()\n",
    "print(lst)"
   ]
  },
  {
   "cell_type": "code",
   "execution_count": null,
   "metadata": {},
   "outputs": [],
   "source": [
    "lst.append(1)\n",
    "lst.append(1)\n",
    "lst.append(1)\n",
    "lst.append(1)\n",
    "print(lst)"
   ]
  },
  {
   "cell_type": "code",
   "execution_count": null,
   "metadata": {},
   "outputs": [],
   "source": [
    "lst.count(1)"
   ]
  },
  {
   "cell_type": "code",
   "execution_count": null,
   "metadata": {},
   "outputs": [],
   "source": [
    "lst.pop(2)\n",
    "print(lst)"
   ]
  },
  {
   "attachments": {},
   "cell_type": "markdown",
   "metadata": {},
   "source": [
    "## **Another special thing about Python lists is that you can use negative indexing.**\n",
    "\n",
    "In Python, you can start indexing from the end of an iterable. This is known as negative indexing."
   ]
  },
  {
   "cell_type": "code",
   "execution_count": null,
   "metadata": {},
   "outputs": [],
   "source": [
    "lst = [1, 2, 3, 4]\n",
    "print(lst)"
   ]
  },
  {
   "cell_type": "code",
   "execution_count": null,
   "metadata": {},
   "outputs": [],
   "source": [
    "len(lst)"
   ]
  },
  {
   "attachments": {},
   "cell_type": "markdown",
   "metadata": {},
   "source": [
    "You can either use the length of the list to call the last element or use negative indexing."
   ]
  },
  {
   "cell_type": "code",
   "execution_count": null,
   "metadata": {},
   "outputs": [],
   "source": [
    "lst[len(lst) - 1]"
   ]
  },
  {
   "cell_type": "code",
   "execution_count": null,
   "metadata": {},
   "outputs": [],
   "source": [
    "lst[-1]"
   ]
  },
  {
   "cell_type": "code",
   "execution_count": null,
   "metadata": {},
   "outputs": [],
   "source": [
    "lst[-4]"
   ]
  },
  {
   "attachments": {},
   "cell_type": "markdown",
   "metadata": {},
   "source": [
    "## **Dictionaries**\n",
    "\n",
    "Dictionaries are used to store data values in key:value pairs. Looks like JavaScript Object Notation or JSON. Duplicates are not allowed here.\n",
    "\n",
    "Dictionaries can also be initialized in 3 ways:\n",
    "### Syntax:\n",
    "```Python\n",
    "# Initializing without values\n",
    "dict_one = dict()\n",
    "dict_two = {}\n",
    "\n",
    "# Initializing with values\n",
    "dict_three = {\n",
    "    \"a\": 1, \n",
    "    \"b\": 2\n",
    "}\n",
    "```"
   ]
  },
  {
   "attachments": {},
   "cell_type": "markdown",
   "metadata": {},
   "source": [
    "## **Think of the dictionary's key as a literal key. It is the only way to gain access to the value inside it.**"
   ]
  },
  {
   "attachments": {},
   "cell_type": "markdown",
   "metadata": {},
   "source": [
    "## How do you add values to a dictionary?\n",
    "\n",
    "### Syntax:\n",
    "```Python\n",
    "dict_name[\"key\"] = value\n",
    "```"
   ]
  },
  {
   "cell_type": "code",
   "execution_count": null,
   "metadata": {},
   "outputs": [],
   "source": [
    "my_dict = dict()\n",
    "my_dict[\"Name\"] = \"Zach\"\n",
    "print(my_dict)"
   ]
  },
  {
   "cell_type": "code",
   "execution_count": null,
   "metadata": {},
   "outputs": [],
   "source": [
    "my_dict[\"Age\"] = 20\n",
    "print(my_dict)"
   ]
  },
  {
   "attachments": {},
   "cell_type": "markdown",
   "metadata": {},
   "source": [
    "## **You can also access the value of a specific key by indexing the dictionary just as you would a list. But instead of passing an number in the brackets `[]`, you pass a key.**"
   ]
  },
  {
   "cell_type": "code",
   "execution_count": null,
   "metadata": {},
   "outputs": [],
   "source": [
    "print(my_dict[\"Age\"])"
   ]
  },
  {
   "cell_type": "code",
   "execution_count": null,
   "metadata": {},
   "outputs": [],
   "source": [
    "print(my_dict[\"Name\"])"
   ]
  },
  {
   "attachments": {},
   "cell_type": "markdown",
   "metadata": {},
   "source": [
    "## **Always keep in mind dictionaries do not allow duplicates. Once a duplicate key is found, it overwrites the previous value.**"
   ]
  },
  {
   "cell_type": "code",
   "execution_count": null,
   "metadata": {},
   "outputs": [],
   "source": [
    "my_dict = {\n",
    "    \"name\": \"Zach\",\n",
    "    \"age\": 20,\n",
    "}\n",
    "print(my_dict)"
   ]
  },
  {
   "cell_type": "code",
   "execution_count": null,
   "metadata": {},
   "outputs": [],
   "source": [
    "my_dict[\"name\"] = \"Zach Pinakacute sa CoDE\"\n",
    "print(my_dict)"
   ]
  },
  {
   "cell_type": "code",
   "execution_count": null,
   "metadata": {},
   "outputs": [],
   "source": [
    "my_dict[\"course_and_year\"] = \"BS Computer Engineering 3\"\n",
    "print(my_dict)"
   ]
  }
 ],
 "metadata": {
  "kernelspec": {
   "display_name": "Python 3",
   "language": "python",
   "name": "python3"
  },
  "language_info": {
   "codemirror_mode": {
    "name": "ipython",
    "version": 3
   },
   "file_extension": ".py",
   "mimetype": "text/x-python",
   "name": "python",
   "nbconvert_exporter": "python",
   "pygments_lexer": "ipython3",
   "version": "3.10.5"
  },
  "orig_nbformat": 4,
  "vscode": {
   "interpreter": {
    "hash": "26de051ba29f2982a8de78e945f0abaf191376122a1563185a90213a26c5da77"
   }
  }
 },
 "nbformat": 4,
 "nbformat_minor": 2
}
