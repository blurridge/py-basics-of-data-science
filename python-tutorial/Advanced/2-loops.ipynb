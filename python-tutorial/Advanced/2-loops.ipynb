{
 "cells": [
  {
   "attachments": {},
   "cell_type": "markdown",
   "metadata": {},
   "source": [
    "# **Loops in Python**\n",
    "\n",
    "A loop is a set of instructions or a section of code that repeatedly executes until a certain condition is met in a programming language. Programmers can streamline their coding with the aid of loops. They give programmers the ability to modify the programs' logic and flow structures.\n",
    "\n",
    "Python has two loops:\n",
    "1. `for` loop\n",
    "2. `while` loop"
   ]
  },
  {
   "attachments": {},
   "cell_type": "markdown",
   "metadata": {},
   "source": [
    "## **Before we get into it, get acquainted first with the `range()` function**\n",
    "\n",
    "The `range()` function returns a sequence of numbers, starting from 0 by default, and increments by 1 (by default), and stops before a specified number.\n",
    "\n",
    "### Syntax:\n",
    "```Python\n",
    "range(start, stop, step)\n",
    "```\n",
    "\n",
    "If one value is only passed to the `range()` function like `range(2)`, `2` is set to be the `stop`. \n",
    "\n",
    "```Python\n",
    "range(2) # Start = 0, Stop = 2, Step = 1\n",
    "# 0, 1\n",
    "range(1, 4, 2) # Start = 1, Stop = 4, Step = 2\n",
    "# 1, 3\n",
    "```\n",
    "\n",
    "**NOTE: `START` IS INCLUSIVE, `STOP` IS EXCLUSIVE**"
   ]
  },
  {
   "attachments": {},
   "cell_type": "markdown",
   "metadata": {},
   "source": [
    "## **for Loop**\n",
    "\n",
    "`for` loops in Python are used to either iterate over a range or an iterable (list, tuple, dictionary, strings, etc.).\n",
    "\n",
    "### Syntax:\n",
    "```Python\n",
    "# Looping over a range\n",
    "for i in range(n):\n",
    "    # executes code inside the loop n times\n",
    "```\n",
    "\n",
    "``` Python\n",
    "# Looping over an iterable\n",
    "for element in iterable:\n",
    "    # executes code inside the loop on the length of the iterable\n",
    "```\n",
    "\n",
    "### Example:"
   ]
  },
  {
   "cell_type": "code",
   "execution_count": null,
   "metadata": {},
   "outputs": [],
   "source": [
    "for i in range(1, 4, 2):\n",
    "    print(i)"
   ]
  },
  {
   "cell_type": "code",
   "execution_count": null,
   "metadata": {},
   "outputs": [],
   "source": [
    "for letter in \"Zach\": # letter here is just an alias. It could be replaced with anything.\n",
    "    print(letter)"
   ]
  },
  {
   "attachments": {},
   "cell_type": "markdown",
   "metadata": {},
   "source": [
    "## **while Loop**\n",
    "\n",
    "`while` loops in Python repeat until a boolean condition is met.\n",
    "\n",
    "### Syntax:\n",
    "```Python\n",
    "while condition:\n",
    "    statement-1\n",
    "    statement-2\n",
    "    ...\n",
    "```\n",
    "\n",
    "### Example:"
   ]
  },
  {
   "cell_type": "code",
   "execution_count": null,
   "metadata": {},
   "outputs": [],
   "source": [
    "x = 4\n",
    "while x > 0:\n",
    "    print(x)\n",
    "    x-=1"
   ]
  }
 ],
 "metadata": {
  "kernelspec": {
   "display_name": "Python 3",
   "language": "python",
   "name": "python3"
  },
  "language_info": {
   "codemirror_mode": {
    "name": "ipython",
    "version": 3
   },
   "file_extension": ".py",
   "mimetype": "text/x-python",
   "name": "python",
   "nbconvert_exporter": "python",
   "pygments_lexer": "ipython3",
   "version": "3.10.5"
  },
  "orig_nbformat": 4,
  "vscode": {
   "interpreter": {
    "hash": "26de051ba29f2982a8de78e945f0abaf191376122a1563185a90213a26c5da77"
   }
  }
 },
 "nbformat": 4,
 "nbformat_minor": 2
}
