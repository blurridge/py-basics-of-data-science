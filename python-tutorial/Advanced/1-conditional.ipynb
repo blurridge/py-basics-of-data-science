{
 "cells": [
  {
   "attachments": {},
   "cell_type": "markdown",
   "metadata": {},
   "source": [
    "# **Conditional Statements in Python**\n",
    "\n",
    "Like every other programming language, Python also has some predefined conditional statements. A conditional statement as the name suggests itself, is used to handle conditions in your program. These statements guide the program while making decisions based on the conditions encountered by the program.\n",
    "\n",
    "Python has 3 key Conditional Statements that you should know:\n",
    "1. `if statement`\n",
    "2. `if-else statement`\n",
    "3. `if-elif-else ladder`"
   ]
  },
  {
   "attachments": {},
   "cell_type": "markdown",
   "metadata": {},
   "source": [
    "## **if Statement**\n",
    "\n",
    "If the statement is `True`, it will run the block of code inside the `if` statement. **Keep in mind your indentions**\n",
    "\n",
    "### Syntax:\n",
    "```Python\n",
    "if condition is True:\n",
    "    # execute code here\n",
    "```\n",
    "\n",
    "### Example:"
   ]
  },
  {
   "cell_type": "code",
   "execution_count": null,
   "metadata": {},
   "outputs": [],
   "source": [
    "num = 2\n",
    "\n",
    "if num % 2 == 0:\n",
    "    print(\"I am even!\")"
   ]
  },
  {
   "cell_type": "code",
   "execution_count": null,
   "metadata": {},
   "outputs": [],
   "source": [
    "num = 3\n",
    "\n",
    "if num % 2 == 0:\n",
    "    print(\"I am even!\")"
   ]
  },
  {
   "attachments": {},
   "cell_type": "markdown",
   "metadata": {},
   "source": [
    "## **if-else Statement**\n",
    "\n",
    "This time, if the `if` statement is `False`, the `else` statement will be executed.\n",
    "\n",
    "### Syntax:\n",
    "```Python\n",
    "if condition is True:\n",
    "    # execute code here\n",
    "else:\n",
    "    # execute if previous statement is False\n",
    "```\n",
    "\n",
    "### Example:"
   ]
  },
  {
   "cell_type": "code",
   "execution_count": null,
   "metadata": {},
   "outputs": [],
   "source": [
    "num = 10\n",
    "\n",
    "if num % 2 == 0:\n",
    "    print(\"I am even!\")\n",
    "else:\n",
    "    print(\"I am odd!\")"
   ]
  },
  {
   "attachments": {},
   "cell_type": "markdown",
   "metadata": {},
   "source": [
    "## **if-elif-else Ladder**\n",
    "\n",
    "`elif` statements are similar to `else-if` statements in languages such as C and Java. The program checks from top to bottom as to which satisfies the condition first. If no conditions are satisfied, it runs the `else` statement.\n",
    "\n",
    "### Syntax:\n",
    "```Python\n",
    "if condition-1 is True:\n",
    "    # execute code here\n",
    "elif condition-2 is True:\n",
    "    # execute code here\n",
    "else:\n",
    "    # execute if none of the statements above are True\n",
    "```\n",
    "\n",
    "### Example:"
   ]
  },
  {
   "cell_type": "code",
   "execution_count": null,
   "metadata": {},
   "outputs": [],
   "source": [
    "name = \"Jhury\"\n",
    "\n",
    "if name == \"Jhury\":\n",
    "    print(\"He is the CoDE President!\")\n",
    "elif name == \"Zach\":\n",
    "    print(\"He is the CoDE Director for Programs!\")\n",
    "else:\n",
    "    print(\"Who tf is that!\")"
   ]
  },
  {
   "cell_type": "code",
   "execution_count": null,
   "metadata": {},
   "outputs": [],
   "source": [
    "name = \"Zach\"\n",
    "\n",
    "if name == \"Jhury\":\n",
    "    print(\"He is the CoDE President!\")\n",
    "elif name == \"Zach\":\n",
    "    print(\"He is the CoDE Director for Programs!\")\n",
    "else:\n",
    "    print(\"Who tf is that!\")"
   ]
  },
  {
   "cell_type": "code",
   "execution_count": null,
   "metadata": {},
   "outputs": [],
   "source": [
    "name = \"Jason\"\n",
    "\n",
    "if name == \"Jhury\":\n",
    "    print(\"He is the CoDE President!\")\n",
    "elif name == \"Zach\":\n",
    "    print(\"He is the CoDE Director for Programs!\")\n",
    "elif name == \"Vince\":\n",
    "    print(\"He is the CoDE Events Coordinator!\")\n",
    "    print(\"He is a 4th year CpE Student!\")\n",
    "else:\n",
    "    print(\"Who tf is that!\")"
   ]
  },
  {
   "attachments": {},
   "cell_type": "markdown",
   "metadata": {},
   "source": [
    "## **Before Python 3.10, the language never had a feature like a switch statement in other languages.**\n",
    "\n",
    "Now, it is possible with the `match` and `case` keywords in Python 3.10.\n",
    "\n",
    "### Syntax:\n",
    "```Python\n",
    "match term:\n",
    "    case pattern-1:\n",
    "         action-1\n",
    "    case pattern-2:\n",
    "         action-2\n",
    "    case pattern-3:\n",
    "         action-3\n",
    "    case _:\n",
    "        action-default\n",
    "```\n",
    "\n",
    "### Example:"
   ]
  },
  {
   "cell_type": "code",
   "execution_count": null,
   "metadata": {},
   "outputs": [],
   "source": [
    "lang = \"Rust\"\n",
    "\n",
    "match lang:\n",
    "    case \"JavaScript\":\n",
    "        print(\"You can become a web developer.\")\n",
    "    case \"Python\":\n",
    "        print(\"You can become a Data Scientist\")\n",
    "    case \"PHP\":\n",
    "        print(\"You can become a backend developer\")\n",
    "    case \"Solidity\":\n",
    "        print(\"You can become a Blockchain developer\")\n",
    "    case \"Java\":\n",
    "        print(\"You can become a mobile app developer\")\n",
    "    case _:\n",
    "        print(\"The language doesn't matter, what matters is solving problems.\")"
   ]
  },
  {
   "attachments": {},
   "cell_type": "markdown",
   "metadata": {},
   "source": [
    "## **Prior to Python 3.10 which was released in October 2021, multiple `if-elif-else` ladders were used.**"
   ]
  },
  {
   "cell_type": "code",
   "execution_count": null,
   "metadata": {},
   "outputs": [],
   "source": [
    "lang = \"Rust\"\n",
    "\n",
    "if lang == \"JavaScript\":\n",
    "    print(\"You can become a web developer.\")\n",
    "elif lang == \"PHP\":\n",
    "    print(\"You can become a backend developer\")\n",
    "elif lang == \"Python\":\n",
    "    print(\"You can become a Data Scientist\")\n",
    "elif lang == \"Solidity\":\n",
    "    print(\"You can become a Blockchain developer\")\n",
    "elif lang == \"Java\":\n",
    "    print(\"You can become a mobile app developer\")\n",
    "else:\n",
    "    print(\"The language doesn't matter, what matters is solving problems.\")"
   ]
  }
 ],
 "metadata": {
  "kernelspec": {
   "display_name": "Python 3",
   "language": "python",
   "name": "python3"
  },
  "language_info": {
   "codemirror_mode": {
    "name": "ipython",
    "version": 3
   },
   "file_extension": ".py",
   "mimetype": "text/x-python",
   "name": "python",
   "nbconvert_exporter": "python",
   "pygments_lexer": "ipython3",
   "version": "3.10.5"
  },
  "orig_nbformat": 4,
  "vscode": {
   "interpreter": {
    "hash": "26de051ba29f2982a8de78e945f0abaf191376122a1563185a90213a26c5da77"
   }
  }
 },
 "nbformat": 4,
 "nbformat_minor": 2
}
